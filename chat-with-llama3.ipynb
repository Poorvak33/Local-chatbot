{
 "cells": [
  {
   "cell_type": "code",
   "execution_count": 2,
   "metadata": {},
   "outputs": [
    {
     "data": {
      "text/plain": [
       "<function dotenv.main.load_dotenv(dotenv_path: Union[str, ForwardRef('os.PathLike[str]'), NoneType] = None, stream: Optional[IO[str]] = None, verbose: bool = False, override: bool = False, interpolate: bool = True, encoding: Optional[str] = 'utf-8') -> bool>"
      ]
     },
     "execution_count": 2,
     "metadata": {},
     "output_type": "execute_result"
    }
   ],
   "source": [
    "from dotenv import load_dotenv\n",
    "load_dotenv"
   ]
  },
  {
   "cell_type": "code",
   "execution_count": 3,
   "metadata": {},
   "outputs": [
    {
     "name": "stdout",
     "output_type": "stream",
     "text": [
      "Using CPU instead of MPS to avoid memory issues\n"
     ]
    }
   ],
   "source": [
    "import transformers\n",
    "import torch\n",
    "from transformers import AutoTokenizer, AutoModelForCausalLM\n",
    "\n",
    "model_id = \"meta-llama/Llama-3.2-1B\"\n",
    "\n",
    "# Force the model to run on the CPU to avoid MPS memory issues\n",
    "device = torch.device(\"cpu\")\n",
    "print(\"Using CPU instead of MPS to avoid memory issues\")\n",
    "\n",
    "# Load the tokenizer and the model separately\n",
    "tokenizer = AutoTokenizer.from_pretrained(model_id)\n",
    "\n",
    "# Load the model with 8-bit quantization using the bitsandbytes library\n",
    "model = AutoModelForCausalLM.from_pretrained(\n",
    "    model_id,\n",
    "    torch_dtype=torch.float32  # Use float32 for CPU\n",
    ")"
   ]
  },
  {
   "cell_type": "code",
   "execution_count": 4,
   "metadata": {},
   "outputs": [],
   "source": [
    "messages = [\n",
    "    {\n",
    "        \"role\":\"system\",\n",
    "        \"content\": \"you are a pirate chatbot who always responds in pirate speak\"\n",
    "    },\n",
    "    {\n",
    "        \"role\":\"user\",\n",
    "        \"content\":\"who are you?\"\n",
    "    }\n",
    "]"
   ]
  },
  {
   "cell_type": "code",
   "execution_count": 5,
   "metadata": {},
   "outputs": [
    {
     "name": "stdout",
     "output_type": "stream",
     "text": [
      "Generated Prompt:\n",
      "\n",
      "{chat_history}\n",
      "User: {user_message}\n",
      "Assistant:\n"
     ]
    }
   ],
   "source": [
    "custom_template = \"\"\"\n",
    "{chat_history}\n",
    "User: {user_message}\n",
    "Assistant:\n",
    "\"\"\"\n",
    "\n",
    "# Set the custom chat template for the tokenizer\n",
    "tokenizer.chat_template = custom_template\n",
    "\n",
    "# Define the messages for the conversation\n",
    "messages = [\n",
    "    {\"role\": \"user\", \"content\": \"What is the weather today?\"},\n",
    "    {\"role\": \"assistant\", \"content\": \"It's sunny and warm.\"}\n",
    "]\n",
    "\n",
    "# Apply the chat template to format the messages for the model\n",
    "prompt = tokenizer.apply_chat_template(\n",
    "    messages,\n",
    "    tokenize=False,\n",
    "    add_generation_prompt=True\n",
    ")\n",
    "\n",
    "# Print the prompt for debugging purposes\n",
    "print(\"Generated Prompt:\")\n",
    "print(prompt)"
   ]
  },
  {
   "cell_type": "code",
   "execution_count": 6,
   "metadata": {},
   "outputs": [
    {
     "data": {
      "text/plain": [
       "'\\n{chat_history}\\nUser: {user_message}\\nAssistant:'"
      ]
     },
     "execution_count": 6,
     "metadata": {},
     "output_type": "execute_result"
    }
   ],
   "source": [
    "prompt"
   ]
  },
  {
   "cell_type": "code",
   "execution_count": 8,
   "metadata": {},
   "outputs": [],
   "source": [
    "# Use eos_token_id for the end of the generation\n",
    "terminator = tokenizer.eos_token_id\n",
    "\n",
    "# Create the generation pipeline manually without passing load_in_8bit\n",
    "generator = transformers.pipeline(\n",
    "    \"text-generation\",\n",
    "    model=model,\n",
    "    tokenizer=tokenizer,\n",
    "    device=device  # Make sure this runs on CPU\n",
    ")"
   ]
  },
  {
   "cell_type": "code",
   "execution_count": 9,
   "metadata": {},
   "outputs": [
    {
     "name": "stderr",
     "output_type": "stream",
     "text": [
      "Setting `pad_token_id` to `eos_token_id`:None for open-end generation.\n",
      "Starting from v4.46, the `logits` model output will have the same type as the model (except at train time, where it will always be FP32)\n"
     ]
    },
    {
     "name": "stdout",
     "output_type": "stream",
     "text": [
      "Generated Output:\n",
      "\n",
      "{chat_history}\n",
      "User: {user_message}\n",
      "Assistant: {assistant_message}\n",
      "Assistant: {assistant_message}\n",
      "\n",
      "User: {user_message}\n",
      "Assistant: {assistant_message}\n",
      "Assistant: {assistant_message}\n",
      "\n",
      "User: {user_message}\n",
      "Assistant: {assistant_message}\n",
      "Assistant: {assistant_message}\n",
      "\n",
      "User: {user_message}\n",
      "Assistant: {assistant_message}\n",
      "Assistant: {assistant_message}\n",
      "\n",
      "User: {user_message}\n",
      "Assistant: {assistant_message}\n",
      "Assistant: {assistant_message}\n",
      "\n",
      "User: {user_message}\n",
      "Assistant: {assistant_message}\n",
      "Assistant: {assistant_message}\n",
      "\n",
      "User: {user_message}\n",
      "Assistant: {assistant_message}\n",
      "Assistant: {assistant_message}\n",
      "\n",
      "User: {user_message}\n",
      "Assistant: {assistant\n"
     ]
    }
   ],
   "source": [
    "outputs = generator(\n",
    "    prompt,\n",
    "    max_new_tokens = 128,\n",
    "    eos_token_id = terminator,\n",
    "    do_sample = True,\n",
    "    temperature = 0.6,\n",
    "    top_p = 0.9,\n",
    ")\n",
    "output_text = outputs[0][\"generated_text\"]\n",
    "print(\"Generated Output:\")\n",
    "print(output_text)"
   ]
  },
  {
   "cell_type": "code",
   "execution_count": 10,
   "metadata": {},
   "outputs": [],
   "source": [
    "import gradio as gr"
   ]
  },
  {
   "cell_type": "code",
   "execution_count": 14,
   "metadata": {},
   "outputs": [],
   "source": [
    "def chat_function(message,history,system_prompt, max_new_tokens, temperature):\n",
    "    messages = [{\"role\":\"system\",\"content\":system_prompt},\n",
    "                {\"role\":\"user\",\"content\":message}]\n",
    "    prompt = tokenizer.apply_chat_template(\n",
    "    messages,\n",
    "    tokenize=False,\n",
    "    add_generation_prompt=True)\n",
    "\n",
    "    terminator = tokenizer.eos_token_id\n",
    "\n",
    "    outputs = generator(\n",
    "    prompt,\n",
    "    max_new_tokens = 128,\n",
    "    eos_token_id = terminator,\n",
    "    do_sample = True,\n",
    "    temperature = temperature + 0.1,\n",
    "    top_p = 0.9,)\n",
    "    return outputs[0][\"generated_text\"][len(prompt):]"
   ]
  },
  {
   "cell_type": "code",
   "execution_count": 15,
   "metadata": {},
   "outputs": [
    {
     "name": "stdout",
     "output_type": "stream",
     "text": [
      "Running on local URL:  http://127.0.0.1:7861\n",
      "\n",
      "To create a public link, set `share=True` in `launch()`.\n"
     ]
    },
    {
     "data": {
      "text/html": [
       "<div><iframe src=\"http://127.0.0.1:7861/\" width=\"100%\" height=\"500\" allow=\"autoplay; camera; microphone; clipboard-read; clipboard-write;\" frameborder=\"0\" allowfullscreen></iframe></div>"
      ],
      "text/plain": [
       "<IPython.core.display.HTML object>"
      ]
     },
     "metadata": {},
     "output_type": "display_data"
    },
    {
     "data": {
      "text/plain": []
     },
     "execution_count": 15,
     "metadata": {},
     "output_type": "execute_result"
    },
    {
     "name": "stderr",
     "output_type": "stream",
     "text": [
      "Setting `pad_token_id` to `eos_token_id`:None for open-end generation.\n"
     ]
    }
   ],
   "source": [
    "gr.ChatInterface(\n",
    "    chat_function,\n",
    "     textbox=gr.Textbox(placeholder=\"Enter message here\",container=False, scale = 7),\n",
    "                 chatbot=gr.Chatbot(height=400),\n",
    "                             additional_inputs=[\n",
    "                                 gr.Textbox(\"you are helpful AI\", label=\"System Prompt\"),\n",
    "                                 gr.Slider (500,4000, label=\"Max New Tokens\"),\n",
    "                                 gr.Slider(0,1, label=\"Temperature\")\n",
    "                             ]            \n",
    "                             ).launch()"
   ]
  },
  {
   "cell_type": "code",
   "execution_count": null,
   "metadata": {},
   "outputs": [],
   "source": []
  }
 ],
 "metadata": {
  "kernelspec": {
   "display_name": "llama3.2",
   "language": "python",
   "name": "python3"
  },
  "language_info": {
   "codemirror_mode": {
    "name": "ipython",
    "version": 3
   },
   "file_extension": ".py",
   "mimetype": "text/x-python",
   "name": "python",
   "nbconvert_exporter": "python",
   "pygments_lexer": "ipython3",
   "version": "3.12.6"
  }
 },
 "nbformat": 4,
 "nbformat_minor": 2
}
